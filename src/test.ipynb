{
 "cells": [
  {
   "cell_type": "code",
   "execution_count": 11,
   "metadata": {},
   "outputs": [],
   "source": [
    "\n",
    "# OBJ\n",
    "# $X_t=argmin_{X_t \\in \\Pi _t} (C_t(S_t,X_t)+\\sum_{g\\in G}\\gamma _g V_t^x(R_g))$\n",
    "from docplex.mp.model import Model\n",
    "from MADP import X,V,S,W,R,C\n",
    "\n",
    "s_c:S=S()\n",
    "\n",
    "# 创建模型\n",
    "model = Model(name='IETS MILP MODEL')\n",
    "\n",
    "# 定义决策变量\n",
    "T = 24  # 时间步数\n",
    "CHP_NUM = 1  # CHP设备数量\n",
    "RES_NUM = 1 # RES设备数量\n",
    "BS_NUM = 1 # BS设备数量\n",
    "TS_NUM = 1 # TS设备数量\n",
    "E_BUS_NUM = 6 # electricity buses\n",
    "T_NODE_NUM = 5 # thermal nodes\n",
    "H_CHP_MAX = 0\n",
    "H_CHP_MIN = 0\n",
    "P_CHP_MIN = 0\n",
    "P_CHP_MAX = 0\n",
    "H_TS_D_MAX = 0\n",
    "H_TS_D_MIN = 0\n",
    "H_TS_C_MAX = 0\n",
    "H_TS_C_MIN = 0\n",
    "P_BS_D_MIN = 0\n",
    "P_BS_D_MAX = 0\n",
    "P_BS_C_MIN = 0\n",
    "P_BS_C_MAX = 0\n",
    "P_RES_MIN = 0\n",
    "P_RES_MAX = 0\n",
    "Q_RES_MIN = 0\n",
    "Q_RES_MAX = 0\n",
    "H_CHP_n = {(n, t): model.continuous_var(lb=H_CHP_MIN, ub=H_CHP_MAX, name=f'H_CHP_{n}_{t}') for n in range(CHP_NUM) for t in range(T)}\n",
    "P_CHP_n = {(n, t): model.continuous_var(lb=P_CHP_MIN, ub=P_CHP_MAX, name=f'P_CHP_{n}_{t}') for n in range(CHP_NUM) for t in range(T)}\n",
    "a_BS_dn = {(n, t): model.binary_var(name=f'a_BS_d{n}_{t}') for n in range(BS_NUM) for t in range(T)}\n",
    "a_BS_cn = {(n, t): model.binary_var(name=f'a_BS_c{n}_{t}') for n in range(BS_NUM) for t in range(T)}\n",
    "a_TS_dn = {(n, t): model.binary_var(name=f'a_TS_d{n}_{t}') for n in range(TS_NUM) for t in range(T)}\n",
    "a_TS_cn = {(n, t): model.binary_var(name=f'a_TS_c{n}_{t}') for n in range(TS_NUM) for t in range(T)}\n",
    "H_TS_dn = {(n, t): model.continuous_var(lb=H_TS_D_MIN, ub=H_TS_D_MAX, name=f'H_TS_d{n}_{t}') for n in range(TS_NUM) for t in range(T)}\n",
    "H_TS_cn = {(n, t): model.continuous_var(lb=H_TS_C_MIN, ub=H_TS_C_MAX, name=f'H_TS_c{n}_{t}') for n in range(TS_NUM) for t in range(T)}\n",
    "P_BS_dn = {(n, t): model.continuous_var(lb=P_BS_D_MIN, ub=P_BS_D_MAX, name=f'P_BS_d{n}_{t}') for n in range(BS_NUM) for t in range(T)}\n",
    "P_BS_cn = {(n, t): model.continuous_var(lb=P_BS_C_MIN, ub=P_BS_C_MAX, name=f'P_BS_c{n}_{t}') for n in range(BS_NUM) for t in range(T)}\n",
    "P_RES_n = {(n, t): model.continuous_var(lb=P_RES_MIN, ub=P_RES_MAX, name=f'P_RES_{n}_{t}') for n in range(RES_NUM) for t in range(T)}\n",
    "Q_RES_n = {(n, t): model.continuous_var(lb=Q_RES_MIN, ub=Q_RES_MAX, name=f'Q_RES_{n}_{t}') for n in range(RES_NUM) for t in range(T)}\n",
    "gama_g = model.continuous_var_list()\n",
    "X_t = {}\n",
    "for t in range(T):\n",
    "    X_t[t] = {\n",
    "        'H_CHP_n': {n: H_CHP_n[n, t] for n in range(CHP_NUM)},\n",
    "        'P_CHP_n': {n: P_CHP_n[n, t] for n in range(CHP_NUM)},\n",
    "        'a_BS_dn': {n: a_BS_dn[n, t] for n in range(BS_NUM)},\n",
    "        'a_BS_cn': {n: a_BS_cn[n, t] for n in range(BS_NUM)},\n",
    "        'a_TS_dn': {n: a_TS_dn[n, t] for n in range(TS_NUM)},\n",
    "        'a_TS_cn': {n: a_TS_cn[n, t] for n in range(TS_NUM)},\n",
    "        'H_TS_dn': {n: H_TS_dn[n, t] for n in range(TS_NUM)},\n",
    "        'H_TS_cn': {n: H_TS_cn[n, t] for n in range(TS_NUM)},\n",
    "        'P_BS_dn': {n: P_BS_dn[n, t] for n in range(BS_NUM)},\n",
    "        'P_BS_cn': {n: P_BS_cn[n, t] for n in range(BS_NUM)},\n",
    "        'P_RES_n': {n: P_RES_n[n, t] for n in range(RES_NUM)},\n",
    "        'Q_RES_n': {n: Q_RES_n[n, t] for n in range(RES_NUM)}\n",
    "    }\n",
    "\n",
    "# 定义目标函数\n",
    "G = 0\n",
    "# obj_expr = [C(s_c,X_t[t])+ (model.sum(gama_g[g]) for g in range(G)) for t in range(T)]"
   ]
  },
  {
   "cell_type": "code",
   "execution_count": null,
   "metadata": {},
   "outputs": [],
   "source": [
    "# 定义目标函数的变量和参数\n",
    "C_t = {}  # 定义 C_t(S_t, X_t) 的相关变量\n",
    "V_t = {}  # 定义 V_t^x(R_g) 的相关变量和参数\n",
    "gamma_g = {}  # gamma_g 参数\n",
    "\n",
    "# 初始化 C_t、V_t 和 gamma_g，具体根据实际情况进行赋值\n",
    "# ...\n",
    "\n",
    "# 定义目标函数变量\n",
    "obj_expr = model.sum(C_t[t] + model.sum(gamma_g[g] * V_t[t][g] for g in G) for t in range(T))\n",
    "\n",
    "# 将目标函数变量添加到模型中\n",
    "model.minimize(obj_expr)"
   ]
  },
  {
   "cell_type": "code",
   "execution_count": 16,
   "metadata": {},
   "outputs": [
    {
     "data": {
      "text/plain": [
       "[0, 0]"
      ]
     },
     "execution_count": 16,
     "metadata": {},
     "output_type": "execute_result"
    }
   ],
   "source": [
    "H_CHP_n_t= [0 for n in range(CHP_NUM)]\n",
    "H_CHP_n_t"
   ]
  },
  {
   "cell_type": "code",
   "execution_count": 17,
   "metadata": {},
   "outputs": [
    {
     "name": "stdout",
     "output_type": "stream",
     "text": [
      "Objective Value: 12.0\n",
      "x: 2.0\n",
      "y: 3.0\n"
     ]
    }
   ],
   "source": [
    "from docplex.mp.model import Model\n",
    "\n",
    "# 创建模型\n",
    "model = Model(name='MILP Example')\n",
    "\n",
    "# 定义决策变量\n",
    "x = model.integer_var(name='x')\n",
    "y = model.integer_var(name='y')\n",
    "\n",
    "# 定义目标函数\n",
    "model.minimize(3*x + 2*y)\n",
    "\n",
    "# 添加约束条件\n",
    "model.add_constraint(x + y >= 5, ctname='constraint1')\n",
    "model.add_constraint(2*x - y >= 1, ctname='constraint2')\n",
    "\n",
    "# 求解模型\n",
    "solution = model.solve()\n",
    "\n",
    "# 打印结果\n",
    "print('Objective Value:', solution.get_objective_value())\n",
    "print('x:', solution[x])\n",
    "print('y:', solution[y])\n"
   ]
  },
  {
   "cell_type": "code",
   "execution_count": 21,
   "metadata": {},
   "outputs": [
    {
     "name": "stdout",
     "output_type": "stream",
     "text": [
      "X_1 = -1.0\n",
      "X_2 = -1.0\n",
      "X_3 = -1.0\n",
      "X_4 = -1.0\n",
      "X_5 = -1.0\n",
      "X_6 = -1.0\n",
      "X_7 = -1.0\n",
      "X_8 = -1.0\n",
      "X_9 = -1.0\n",
      "X_10 = -1.0\n",
      "X_11 = -1.0\n",
      "X_12 = -1.0\n",
      "X_13 = -1.0\n",
      "X_14 = -1.0\n",
      "X_15 = -1.0\n",
      "X_16 = -1.0\n",
      "X_17 = -1.0\n",
      "X_18 = -1.0\n",
      "X_19 = -1.0\n",
      "X_20 = -1.0\n",
      "X_21 = -1.0\n",
      "X_22 = -1.0\n",
      "X_23 = -1.0\n",
      "X_24 = -1.0\n",
      "Objective value: -24.0\n"
     ]
    }
   ],
   "source": [
    "from docplex.mp.model import Model\n",
    "import math\n",
    "\n",
    "# 创建模型\n",
    "model = Model()\n",
    "\n",
    "# 定义决策变量\n",
    "n=10\n",
    "X = {(n,t): model.integer_var(lb=-1, ub=100, name=f'X_{i}{t}') for i in range(n) for t in range(1, 25)}\n",
    "\n",
    "# 定义目标函数\n",
    "objective = model.sum(X[t] for t in range(1, 25))\n",
    "model.minimize(objective)\n",
    "\n",
    "# 求解模型\n",
    "solver = model.solve()\n",
    "\n",
    "# 打印结果\n",
    "if solver:\n",
    "    for t in range(1, 25):\n",
    "        print('X_{0} = {1}'.format(t, solver[X[t]]))\n",
    "    print('Objective value: {0}'.format(solver.objective_value))\n",
    "else:\n",
    "    print('No solution found')\n"
   ]
  },
  {
   "cell_type": "code",
   "execution_count": 17,
   "metadata": {},
   "outputs": [
    {
     "data": {
      "text/plain": [
       "docplex.mp.Var(type=I,name='X_1',lb=1,ub=100)"
      ]
     },
     "execution_count": 17,
     "metadata": {},
     "output_type": "execute_result"
    }
   ],
   "source": []
  },
  {
   "cell_type": "code",
   "execution_count": 7,
   "metadata": {},
   "outputs": [
    {
     "data": {
      "text/plain": [
       "'X_1'"
      ]
     },
     "execution_count": 7,
     "metadata": {},
     "output_type": "execute_result"
    }
   ],
   "source": []
  }
 ],
 "metadata": {
  "kernelspec": {
   "display_name": ".venv",
   "language": "python",
   "name": "python3"
  },
  "language_info": {
   "codemirror_mode": {
    "name": "ipython",
    "version": 3
   },
   "file_extension": ".py",
   "mimetype": "text/x-python",
   "name": "python",
   "nbconvert_exporter": "python",
   "pygments_lexer": "ipython3",
   "version": "3.7.8"
  },
  "orig_nbformat": 4
 },
 "nbformat": 4,
 "nbformat_minor": 2
}
